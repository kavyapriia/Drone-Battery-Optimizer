{
  "nbformat": 4,
  "nbformat_minor": 0,
  "metadata": {
    "colab": {
      "provenance": [],
      "authorship_tag": "ABX9TyPfd0bmvjdLXE4axI2FWXPN",
      "include_colab_link": true
    },
    "kernelspec": {
      "name": "python3",
      "display_name": "Python 3"
    },
    "language_info": {
      "name": "python"
    }
  },
  "cells": [
    {
      "cell_type": "markdown",
      "metadata": {
        "id": "view-in-github",
        "colab_type": "text"
      },
      "source": [
        "<a href=\"https://colab.research.google.com/github/kavyapriia/Drone-Battery-Optimizer/blob/main/Drone_Battery_Life_Optimizer.ipynb\" target=\"_parent\"><img src=\"https://colab.research.google.com/assets/colab-badge.svg\" alt=\"Open In Colab\"/></a>"
      ]
    },
    {
      "cell_type": "code",
      "source": [
        "# Import necessary libraries\n",
        "import numpy as np\n",
        "import matplotlib.pyplot as plt\n",
        "from scipy.optimize import minimize\n",
        "\n",
        "print(\"Libraries imported successfully!\")"
      ],
      "metadata": {
        "colab": {
          "base_uri": "https://localhost:8080/"
        },
        "id": "W_-0rkyaTJbB",
        "outputId": "e68bd896-dee2-440a-cd49-75b8b1b0ba49"
      },
      "execution_count": null,
      "outputs": [
        {
          "output_type": "stream",
          "name": "stdout",
          "text": [
            "Libraries imported successfully!\n"
          ]
        }
      ]
    },
    {
      "cell_type": "code",
      "source": [
        "# Constants\n",
        "g = 9.81  # Gravitational acceleration (m/s^2)\n",
        "Cd = 0.5  # Drag coefficient (assumed constant)\n",
        "A = 0.1   # Cross-sectional area of the drone (m^2)\n",
        "battery_capacity = 500  # Battery capacity in Wh (example value)\n",
        "\n",
        "# Function to calculate air density based on altitude and temperature\n",
        "def air_density(altitude, temperature=20):\n",
        "    \"\"\"\n",
        "    Calculate air density using the barometric formula.\n",
        "    altitude: in meters\n",
        "    temperature: in degrees Celsius\n",
        "    \"\"\"\n",
        "    T_kelvin = temperature + 273.15  # Convert to Kelvin\n",
        "    P0 = 101325  # Standard atmospheric pressure at sea level (Pa)\n",
        "    R = 287.05   # Specific gas constant for air (J/(kg·K))\n",
        "    L = 0.0065   # Temperature lapse rate (K/m)\n",
        "    T0 = 288.15  # Standard temperature at sea level (K)\n",
        "    return (P0 / (R * T_kelvin)) * (1 - (L * altitude) / T0) ** (g / (R * L))\n",
        "\n",
        "# Function to calculate total power consumption\n",
        "def total_power(mass, payload, speed, altitude, temperature=20):\n",
        "    \"\"\"\n",
        "    Calculate total power consumption of the drone.\n",
        "    mass: mass of the drone (kg)\n",
        "    payload: payload weight (kg)\n",
        "    speed: flight speed (m/s)\n",
        "    altitude: altitude (m)\n",
        "    temperature: ambient temperature (°C)\n",
        "    \"\"\"\n",
        "    total_mass = mass + payload\n",
        "    rho = air_density(altitude, temperature)\n",
        "\n",
        "    # Thrust power\n",
        "    F_thrust = total_mass * g\n",
        "    P_thrust = F_thrust * speed\n",
        "\n",
        "    # Drag power\n",
        "    F_drag = 0.5 * rho * speed**2 * Cd * A\n",
        "    P_drag = F_drag * speed\n",
        "\n",
        "    # Total power\n",
        "    return P_thrust + P_drag\n",
        "\n",
        "# Function to calculate flight time\n",
        "def flight_time(mass, payload, speed, altitude, temperature=20):\n",
        "    \"\"\"\n",
        "    Calculate flight time based on total power consumption.\n",
        "    \"\"\"\n",
        "    P_total = total_power(mass, payload, speed, altitude, temperature)\n",
        "    return battery_capacity / P_total\n",
        "\n",
        "# Function to optimize speed for maximum flight time\n",
        "def optimize_speed(mass, payload, altitude, temperature=20):\n",
        "    \"\"\"\n",
        "    Optimize flight speed for maximum flight time.\n",
        "    \"\"\"\n",
        "    # Objective function to minimize (negative flight time)\n",
        "    def objective(speed):\n",
        "        return -flight_time(mass, payload, speed, altitude, temperature)\n",
        "\n",
        "    # Initial guess for speed\n",
        "    initial_speed = 5  # m/s\n",
        "    bounds = [(1, 20)]  # Speed bounds (1 to 20 m/s)\n",
        "\n",
        "    # Minimize the negative flight time\n",
        "    result = minimize(objective, initial_speed, bounds=bounds)\n",
        "    return result.x[0]  # Optimal speed"
      ],
      "metadata": {
        "id": "RIyA5PyjTVVW"
      },
      "execution_count": null,
      "outputs": []
    },
    {
      "cell_type": "code",
      "source": [
        "# Interactive Input\n",
        "if __name__ == \"__main__\":\n",
        "    print(\"Welcome to the Drone Battery Life Optimizer!\")\n",
        "    mass = float(input(\"Enter drone mass (kg): \"))\n",
        "    payload = float(input(\"Enter payload weight (kg): \"))\n",
        "    altitude = float(input(\"Enter altitude (m): \"))\n",
        "    temperature = float(input(\"Enter temperature (°C): \"))\n",
        "\n",
        "    optimal_speed = optimize_speed(mass, payload, altitude, temperature)\n",
        "    max_time = flight_time(mass, payload, optimal_speed, altitude, temperature)\n",
        "\n",
        "    print(f\"\\nOptimal Flight Speed: {optimal_speed:.2f} m/s\")\n",
        "    print(f\"Maximum Flight Time: {max_time:.2f} hours\")"
      ],
      "metadata": {
        "colab": {
          "base_uri": "https://localhost:8080/"
        },
        "id": "2D5YREZ1TjDT",
        "outputId": "023abf85-bb59-4fdc-9093-11e05aa60140"
      },
      "execution_count": null,
      "outputs": [
        {
          "output_type": "stream",
          "name": "stdout",
          "text": [
            "Welcome to the Drone Battery Life Optimizer!\n",
            "Enter drone mass (kg): 2.0\n",
            "Enter payload weight (kg): 0.5\n",
            "Enter altitude (m): 0.1\n",
            "Enter temperature (°C): 0.5\n",
            "\n",
            "Optimal Flight Speed: 1.00 m/s\n",
            "Maximum Flight Time: 20.36 hours\n"
          ]
        }
      ]
    },
    {
      "cell_type": "code",
      "source": [
        "import numpy as np\n",
        "import matplotlib.pyplot as plt\n",
        "from scipy.optimize import minimize\n",
        "\n",
        "# Constants\n",
        "g = 9.81  # Gravitational acceleration (m/s^2)\n",
        "Cd = 0.5  # Drag coefficient (assumed constant)\n",
        "A = 0.1   # Cross-sectional area of the drone (m^2)\n",
        "battery_capacity = 500  # Battery capacity in Wh (example value)\n",
        "\n",
        "# Function to calculate air density based on altitude and temperature\n",
        "def air_density(altitude, temperature=20):\n",
        "    \"\"\"\n",
        "    Calculate air density using the barometric formula.\n",
        "    altitude: in meters\n",
        "    temperature: in degrees Celsius\n",
        "    \"\"\"\n",
        "    T_kelvin = temperature + 273.15  # Convert to Kelvin\n",
        "    P0 = 101325  # Standard atmospheric pressure at sea level (Pa)\n",
        "    R = 287.05   # Specific gas constant for air (J/(kg·K))\n",
        "    L = 0.0065   # Temperature lapse rate (K/m)\n",
        "    T0 = 288.15  # Standard temperature at sea level (K)\n",
        "    return (P0 / (R * T_kelvin)) * (1 - (L * altitude) / T0) ** (g / (R * L))\n",
        "\n",
        "# Function to calculate total power consumption\n",
        "def total_power(mass, payload, speed, altitude, temperature=20):\n",
        "    \"\"\"\n",
        "    Calculate total power consumption of the drone.\n",
        "    mass: mass of the drone (kg)\n",
        "    payload: payload weight (kg)\n",
        "    speed: flight speed (m/s)\n",
        "    altitude: altitude (m)\n",
        "    temperature: ambient temperature (°C)\n",
        "    \"\"\"\n",
        "    total_mass = mass + payload\n",
        "    rho = air_density(altitude, temperature)\n",
        "\n",
        "    # Thrust power\n",
        "    F_thrust = total_mass * g\n",
        "    P_thrust = F_thrust * speed\n",
        "\n",
        "    # Drag power\n",
        "    F_drag = 0.5 * rho * speed**2 * Cd * A\n",
        "    P_drag = F_drag * speed\n",
        "\n",
        "    # Total power\n",
        "    return P_thrust + P_drag\n",
        "\n",
        "# Function to calculate flight time\n",
        "def flight_time(mass, payload, speed, altitude, temperature=20):\n",
        "    \"\"\"\n",
        "    Calculate flight time based on total power consumption.\n",
        "    \"\"\"\n",
        "    P_total = total_power(mass, payload, speed, altitude, temperature)\n",
        "    return battery_capacity / P_total\n",
        "\n",
        "# Function to optimize speed for maximum flight time\n",
        "def optimize_speed(mass, payload, altitude, temperature=20):\n",
        "    \"\"\"\n",
        "    Optimize flight speed for maximum flight time.\n",
        "    \"\"\"\n",
        "    # Objective function to minimize (negative flight time)\n",
        "    def objective(speed):\n",
        "        return -flight_time(mass, payload, speed, altitude, temperature)\n",
        "\n",
        "    # Initial guess for speed\n",
        "    initial_speed = 5  # m/s\n",
        "    bounds = [(1, 20)]  # Speed bounds (1 to 20 m/s)\n",
        "\n",
        "    # Minimize the negative flight time\n",
        "    result = minimize(objective, initial_speed, bounds=bounds)\n",
        "    return result.x[0]  # Optimal speed\n",
        "\n",
        "# Collect user inputs\n",
        "print(\"Welcome to the Drone Battery Life Optimizer!\")\n",
        "mass = float(input(\"Enter drone mass (kg): \"))\n",
        "payload = float(input(\"Enter payload weight (kg): \"))\n",
        "altitude = float(input(\"Enter altitude (m): \"))\n",
        "temperature = float(input(\"Enter temperature (°C): \"))\n",
        "\n",
        "# Test speeds\n",
        "speeds = np.linspace(1, 20, 100)  # Speed range (1 to 20 m/s)\n",
        "times = [flight_time(mass, payload, v, altitude, temperature) for v in speeds]\n",
        "\n",
        "# Plot flight time vs. speed\n",
        "plt.figure(figsize=(10, 6))\n",
        "plt.plot(speeds, times, label=\"Flight Time\", color=\"blue\")\n",
        "plt.xlabel(\"Speed (m/s)\")\n",
        "plt.ylabel(\"Flight Time (hours)\")\n",
        "plt.title(\"Drone Flight Time vs. Speed\")\n",
        "plt.grid()\n",
        "plt.legend()\n",
        "\n",
        "# Find optimal speed\n",
        "optimal_speed = optimize_speed(mass, payload, altitude, temperature)\n",
        "max_time = flight_time(mass, payload, optimal_speed, altitude, temperature)\n",
        "\n",
        "# Highlight the optimal speed on the graph\n",
        "plt.scatter(optimal_speed, max_time, color=\"red\", label=f\"Optimal Speed: {optimal_speed:.2f} m/s\")\n",
        "plt.axvline(optimal_speed, color=\"red\", linestyle=\"--\", alpha=0.5)\n",
        "\n",
        "plt.show()\n",
        "\n",
        "# Print results\n",
        "print(f\"Optimal Speed: {optimal_speed:.2f} m/s\")\n",
        "print(f\"Maximum Flight Time: {max_time:.2f} hours\")"
      ],
      "metadata": {
        "colab": {
          "base_uri": "https://localhost:8080/",
          "height": 685
        },
        "id": "3l0SMuBEVR9M",
        "outputId": "f036dddd-0a6c-4ebb-f7c9-b0398be1f822"
      },
      "execution_count": null,
      "outputs": [
        {
          "name": "stdout",
          "output_type": "stream",
          "text": [
            "Welcome to the Drone Battery Life Optimizer!\n",
            "Enter drone mass (kg): 2.0\n",
            "Enter payload weight (kg): 0.5\n",
            "Enter altitude (m): 100\n",
            "Enter temperature (°C): 20\n"
          ]
        },
        {
          "output_type": "display_data",
          "data": {
            "text/plain": [
              "<Figure size 1000x600 with 1 Axes>"
            ],
            "image/png": "[encoded data removed]"
          },
          "metadata": {}
        },
        {
          "output_type": "stream",
          "name": "stdout",
          "text": [
            "Optimal Speed: 1.00 m/s\n",
            "Maximum Flight Time: 20.36 hours\n"
          ]
        }
      ]
    }
  ]
}